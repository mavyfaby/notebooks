{
 "cells": [
  {
   "cell_type": "code",
   "execution_count": 2,
   "metadata": {},
   "outputs": [
    {
     "data": {
      "text/html": [
       "<pre style=\"white-space:pre;overflow-x:auto;line-height:normal;font-family:Menlo,'DejaVu Sans Mono',consolas,'Courier New',monospace\">Manim Community <span style=\"color: #008000; text-decoration-color: #008000\">v0.17.3</span>\n",
       "\n",
       "</pre>\n"
      ],
      "text/plain": [
       "Manim Community \u001b[32mv0.\u001b[0m\u001b[32m17.3\u001b[0m\n",
       "\n"
      ]
     },
     "metadata": {},
     "output_type": "display_data"
    }
   ],
   "source": [
    "from manim import *"
   ]
  },
  {
   "cell_type": "code",
   "execution_count": 3,
   "metadata": {},
   "outputs": [
    {
     "name": "stderr",
     "output_type": "stream",
     "text": [
      "                                                                                                       \r"
     ]
    },
    {
     "data": {
      "text/html": [
       "<video src=\"media/jupyter/LinearInterpolation@2023-07-23@23-41-01.mp4\" controls autoplay loop style=\"max-width: 60%;\"  >\n",
       "      Your browser does not support the <code>video</code> element.\n",
       "    </video>"
      ],
      "text/plain": [
       "<IPython.core.display.Video object>"
      ]
     },
     "metadata": {},
     "output_type": "display_data"
    }
   ],
   "source": [
    "%%manim -qp -v WARNING LinearInterpolation\n",
    "\n",
    "# Linear Interpolation formula\n",
    "def lerp(mn, mx, t):\n",
    "    return ((1 - t) * mn) + (t * mx)\n",
    "\n",
    "class LinearInterpolation(Scene):\n",
    "    def construct(self):\n",
    "        p1 = [-3, -2, 0]\n",
    "        p2 = [3, 2, 0]\n",
    "\n",
    "        t = 0.5\n",
    "\n",
    "        title = Tex(\"Linear Interpolation\").scale(0.8)\n",
    "        name = Tex(\"By Maverick Fabroa\").scale(0.6)\n",
    "        intro = VGroup(title, name).arrange(DOWN, aligned_edge=LEFT)\n",
    "\n",
    "        p1_dot = Dot(p1)\n",
    "        p2_dot = Dot(p2)\n",
    "        t_dot = Dot([lerp(p1[0], p2[0], t), lerp(p1[1], p2[1], t), 0]).set_fill(RED)\n",
    "\n",
    "        p1_label = MathTex(\"P_0\").next_to(p1_dot, DOWN)\n",
    "        p2_label = MathTex(\"P_1\").next_to(p2_dot, DOWN)\n",
    "        t_label = Variable(t, Text(\"t\").scale(0.6), num_decimal_places=2).set_fill(RED).next_to(t_dot, RIGHT)\n",
    "\n",
    "        def update_t(m):\n",
    "            m.move_to([lerp(p1[0], p2[0], t_label.tracker.get_value()), lerp(p1[1], p2[1], t_label.tracker.get_value()), 0])\n",
    "            t_label.next_to(m, RIGHT)\n",
    "            \n",
    "\n",
    "        t_dot.add_updater(update_t)\n",
    "\n",
    "        self.play(Write(intro))\n",
    "        self.wait(1)\n",
    "        self.play(intro.animate.scale(0.8))\n",
    "        self.play(intro.animate.move_to([-5.25 , 3.25, 0]))\n",
    "\n",
    "        self.play(Create(p1_dot), Write(p1_label))\n",
    "        self.play(Create(p2_dot), Write(p2_label))\n",
    "\n",
    "        line = Line(p1, p2)\n",
    "\n",
    "        self.play(Create(line))\n",
    "        self.play(Create(t_dot), Write(t_label))\n",
    "        self.play(t_label.tracker.animate.set_value(1), run_time=2)\n",
    "        self.wait(1)\n",
    "        self.play(t_label.tracker.animate.set_value(0), run_time=2)\n",
    "        self.wait(1)\n",
    "        self.play(t_label.tracker.animate.set_value(0.25), run_time=2)\n",
    "        self.wait(1)\n",
    "        self.play(t_label.tracker.animate.set_value(0.5), run_time=2)\n",
    "        self.wait(1)\n",
    "        self.play(t_label.tracker.animate.set_value(1), run_time=2)\n",
    "        self.wait(1)\n"
   ]
  }
 ],
 "metadata": {
  "kernelspec": {
   "display_name": "Python 3 (ipykernel)",
   "language": "python",
   "name": "python3"
  },
  "language_info": {
   "codemirror_mode": {
    "name": "ipython",
    "version": 3
   },
   "file_extension": ".py",
   "mimetype": "text/x-python",
   "name": "python",
   "nbconvert_exporter": "python",
   "pygments_lexer": "ipython3",
   "version": "3.11.2"
  },
  "orig_nbformat": 4
 },
 "nbformat": 4,
 "nbformat_minor": 2
}
